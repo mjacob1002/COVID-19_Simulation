{
 "cells": [
  {
   "cell_type": "code",
   "execution_count": 7,
   "id": "588e5945",
   "metadata": {},
   "outputs": [],
   "source": [
    "import scipy\n",
    "import numpy as np\n",
    "import pandas as pd\n",
    "from scipy.stats import ttest_ind # to perform the t-test "
   ]
  },
  {
   "cell_type": "code",
   "execution_count": 4,
   "id": "d84067c7",
   "metadata": {},
   "outputs": [],
   "source": [
    "def getCSV(var : str):\n",
    "    # var is the compartment that should be analyzed\n",
    "    nv = pd.read_csv(novax+var+str(\".csv\")) # novax csv as dataframe\n",
    "    sv = pd.read_csv(standard_path+var+str(\".csv\")) # standardvax csv as dataframe\n",
    "    av = pd.read_csv(agevax_path+var+str(\".csv\")) # agevax csv as dataframe\n",
    "    mv = pd.read_csv(movement_path+var+str(\".csv\")) # movementvax csv as dataframe\n",
    "    spv = pd.read_csv(spreading_path+var+str(\".csv\")) # spreadingvax csv as dataframe\n",
    "    return nv, sv, av, mv, spv"
   ]
  },
  {
   "cell_type": "code",
   "execution_count": 5,
   "id": "e55661aa",
   "metadata": {},
   "outputs": [],
   "source": [
    "same_root = \"~/dev/RxCovea/COVID-19_Simulation/Results/61days/Aggregates/\" # the core root part of each path\n",
    "\n",
    "novax = same_root + \"NoVax/\" # path to no vaccination\n",
    "\n",
    "standard_path = same_root + \"StandardVax/\"# path to the standard vaccination\n",
    "\n",
    "agevax_path = same_root + \"AgeVax/\"# path to the age vaccination path\n",
    "\n",
    "movement_path = same_root + \"MovementVax/\"# path to the movement vaccination strategy\n",
    "\n",
    "spreading_path = same_root + \"SpreadingVax/\"# path to the spreading radius strategy"
   ]
  },
  {
   "cell_type": "code",
   "execution_count": 102,
   "id": "ef52789f",
   "metadata": {},
   "outputs": [
    {
     "name": "stdout",
     "output_type": "stream",
     "text": [
      "nan\n"
     ]
    }
   ],
   "source": [
    "df1, df2, df3, df4, df5 = getCSV(\"D\") # get the 'Death' CSV file\n",
    "\n",
    "#for i in range(1000):\n",
    "#    x = df5['Run ' + str(i+1)].iloc[61]\n",
    "##    print(x)\n",
    " #   if np.isnan(x):\n",
    " #       print(\"Index of NaN: \", i)\n",
    "print(df5['Run 750'].iloc[32])"
   ]
  },
  {
   "cell_type": "code",
   "execution_count": 113,
   "id": "1b0446a2",
   "metadata": {},
   "outputs": [
    {
     "data": {
      "text/plain": [
       "87.45845845845845"
      ]
     },
     "execution_count": 113,
     "metadata": {},
     "output_type": "execute_result"
    }
   ],
   "source": [
    "def getNumpyArray(df: pd.DataFrame): # convert the desired row into a numpy array\n",
    "    arr = np.zeros(1000)\n",
    "    for i in range(1000):\n",
    "        name = 'Run ' + str(i+1) # get the name of the column of the dataframe\n",
    "        arr[i]=df[name].iloc[61] # add the value of the 61st day in run (i+1) to numpy array\n",
    "    return arr\n",
    "# load up the numpy arrays\n",
    "arr1, arr2, arr3, arr4, arr5 = getNumpyArray(df1), getNumpyArray(df2), getNumpyArray(df3), getNumpyArray(df4), getNumpyArray(df5)\n",
    "\n",
    "# clean the data by removing all nan values\n",
    "nan_array = np.isnan(arr5) # filter out the nan values for arr5\n",
    "not_nan_array = ~ nan_array\n",
    "arr5 = arr5[not_nan_array]\n",
    "\n",
    "arr5.mean()"
   ]
  },
  {
   "cell_type": "code",
   "execution_count": 183,
   "id": "a87558d5",
   "metadata": {},
   "outputs": [],
   "source": [
    "def conduct_ttest(arr1, arr2, type_of_test: str):\n",
    "    return (ttest_ind(arr1, arr2, equal_var=False, alternative=type_of_test)[0], ttest_ind(arr1,arr2, equal_var=False, alternative=type_of_test)[1]) # return the one-sided p value of the Welch's t-test by dividing two-sided by 2"
   ]
  },
  {
   "cell_type": "code",
   "execution_count": 194,
   "id": "3c6ba3da",
   "metadata": {},
   "outputs": [
    {
     "data": {
      "text/plain": [
       "(-6.4856031984237825, 5.5994918200319267e-11)"
      ]
     },
     "execution_count": 194,
     "metadata": {},
     "output_type": "execute_result"
    }
   ],
   "source": [
    "conduct_ttest(arr3, arr1, 'less') # test if the mean of the first population is less than the second"
   ]
  },
  {
   "cell_type": "code",
   "execution_count": 199,
   "id": "d638137f",
   "metadata": {},
   "outputs": [],
   "source": [
    "def significanceTable(nparrays):\n",
    "    significances = [[], [], [], [], []]\n",
    "    for i, arr in enumerate(nparrays):\n",
    "        for j, arr2 in enumerate(nparrays):\n",
    "            result = conduct_ttest(arr, arr2,'less')\n",
    "            significances[i].append(result[1])\n",
    "    return significances"
   ]
  },
  {
   "cell_type": "code",
   "execution_count": 196,
   "id": "8b01808b",
   "metadata": {},
   "outputs": [
    {
     "data": {
      "text/plain": [
       "(5, 5)"
      ]
     },
     "execution_count": 196,
     "metadata": {},
     "output_type": "execute_result"
    }
   ],
   "source": [
    "npversion = np.array(significanceTable([arr1, arr2, arr3, arr4, arr5]))\n",
    "np.shape(npversion)"
   ]
  },
  {
   "cell_type": "code",
   "execution_count": 197,
   "id": "cf72d3a7",
   "metadata": {},
   "outputs": [
    {
     "data": {
      "text/html": [
       "<div>\n",
       "<style scoped>\n",
       "    .dataframe tbody tr th:only-of-type {\n",
       "        vertical-align: middle;\n",
       "    }\n",
       "\n",
       "    .dataframe tbody tr th {\n",
       "        vertical-align: top;\n",
       "    }\n",
       "\n",
       "    .dataframe thead th {\n",
       "        text-align: right;\n",
       "    }\n",
       "</style>\n",
       "<table border=\"1\" class=\"dataframe\">\n",
       "  <thead>\n",
       "    <tr style=\"text-align: right;\">\n",
       "      <th></th>\n",
       "      <th>NoVax</th>\n",
       "      <th>StandardVax</th>\n",
       "      <th>AgeVax</th>\n",
       "      <th>MovementVax</th>\n",
       "      <th>SpreadingVax</th>\n",
       "    </tr>\n",
       "  </thead>\n",
       "  <tbody>\n",
       "    <tr>\n",
       "      <th>NoVax</th>\n",
       "      <td>0.500000</td>\n",
       "      <td>0.098933</td>\n",
       "      <td>5.599492e-11</td>\n",
       "      <td>0.145067</td>\n",
       "      <td>0.282056</td>\n",
       "    </tr>\n",
       "    <tr>\n",
       "      <th>StandardVax</th>\n",
       "      <td>0.901067</td>\n",
       "      <td>0.500000</td>\n",
       "      <td>6.185106e-08</td>\n",
       "      <td>0.596517</td>\n",
       "      <td>0.772698</td>\n",
       "    </tr>\n",
       "    <tr>\n",
       "      <th>AgeVax</th>\n",
       "      <td>1.000000</td>\n",
       "      <td>1.000000</td>\n",
       "      <td>5.000000e-01</td>\n",
       "      <td>1.000000</td>\n",
       "      <td>1.000000</td>\n",
       "    </tr>\n",
       "    <tr>\n",
       "      <th>MovementVax</th>\n",
       "      <td>0.854933</td>\n",
       "      <td>0.403483</td>\n",
       "      <td>1.216626e-08</td>\n",
       "      <td>0.500000</td>\n",
       "      <td>0.693241</td>\n",
       "    </tr>\n",
       "    <tr>\n",
       "      <th>SpreadingVax</th>\n",
       "      <td>0.717944</td>\n",
       "      <td>0.227302</td>\n",
       "      <td>4.187775e-10</td>\n",
       "      <td>0.306759</td>\n",
       "      <td>0.500000</td>\n",
       "    </tr>\n",
       "  </tbody>\n",
       "</table>\n",
       "</div>"
      ],
      "text/plain": [
       "                 NoVax  StandardVax        AgeVax  MovementVax  SpreadingVax\n",
       "NoVax         0.500000     0.098933  5.599492e-11     0.145067      0.282056\n",
       "StandardVax   0.901067     0.500000  6.185106e-08     0.596517      0.772698\n",
       "AgeVax        1.000000     1.000000  5.000000e-01     1.000000      1.000000\n",
       "MovementVax   0.854933     0.403483  1.216626e-08     0.500000      0.693241\n",
       "SpreadingVax  0.717944     0.227302  4.187775e-10     0.306759      0.500000"
      ]
     },
     "execution_count": 197,
     "metadata": {},
     "output_type": "execute_result"
    }
   ],
   "source": [
    "labels = ['NoVax', 'StandardVax', 'AgeVax', 'MovementVax', 'SpreadingVax']\n",
    "sigDF = pd.DataFrame(npversion, columns=labels, index=labels)\n",
    "sigDF"
   ]
  },
  {
   "cell_type": "code",
   "execution_count": 198,
   "id": "6455ca4b",
   "metadata": {},
   "outputs": [
    {
     "name": "stdout",
     "output_type": "stream",
     "text": [
      "\\begin{tabular}{lrrrrr}\n",
      "\\toprule\n",
      "{} &     NoVax &  StandardVax &        AgeVax &  MovementVax &  SpreadingVax \\\\\n",
      "\\midrule\n",
      "NoVax        &  0.500000 &     0.098933 &  5.599492e-11 &     0.145067 &      0.282056 \\\\\n",
      "StandardVax  &  0.901067 &     0.500000 &  6.185106e-08 &     0.596517 &      0.772698 \\\\\n",
      "AgeVax       &  1.000000 &     1.000000 &  5.000000e-01 &     1.000000 &      1.000000 \\\\\n",
      "MovementVax  &  0.854933 &     0.403483 &  1.216626e-08 &     0.500000 &      0.693241 \\\\\n",
      "SpreadingVax &  0.717944 &     0.227302 &  4.187775e-10 &     0.306759 &      0.500000 \\\\\n",
      "\\bottomrule\n",
      "\\end{tabular}\n",
      "\n"
     ]
    }
   ],
   "source": [
    "print(sigDF.to_latex(index=True))"
   ]
  },
  {
   "cell_type": "markdown",
   "id": "90ac3cdb",
   "metadata": {},
   "source": [
    "Find p-values for the ICU values"
   ]
  },
  {
   "cell_type": "code",
   "execution_count": 209,
   "id": "9d92575c",
   "metadata": {},
   "outputs": [
    {
     "data": {
      "text/html": [
       "<div>\n",
       "<style scoped>\n",
       "    .dataframe tbody tr th:only-of-type {\n",
       "        vertical-align: middle;\n",
       "    }\n",
       "\n",
       "    .dataframe tbody tr th {\n",
       "        vertical-align: top;\n",
       "    }\n",
       "\n",
       "    .dataframe thead th {\n",
       "        text-align: right;\n",
       "    }\n",
       "</style>\n",
       "<table border=\"1\" class=\"dataframe\">\n",
       "  <thead>\n",
       "    <tr style=\"text-align: right;\">\n",
       "      <th></th>\n",
       "      <th>NoVax</th>\n",
       "      <th>StandardVax</th>\n",
       "      <th>AgeVax</th>\n",
       "      <th>MovementVax</th>\n",
       "      <th>SpreadingVax</th>\n",
       "    </tr>\n",
       "  </thead>\n",
       "  <tbody>\n",
       "    <tr>\n",
       "      <th>NoVax</th>\n",
       "      <td>5.000000e-01</td>\n",
       "      <td>9.671282e-01</td>\n",
       "      <td>1.0</td>\n",
       "      <td>9.728810e-01</td>\n",
       "      <td>9.773413e-01</td>\n",
       "    </tr>\n",
       "    <tr>\n",
       "      <th>StandardVax</th>\n",
       "      <td>3.287175e-02</td>\n",
       "      <td>5.000000e-01</td>\n",
       "      <td>1.0</td>\n",
       "      <td>5.292537e-01</td>\n",
       "      <td>5.557047e-01</td>\n",
       "    </tr>\n",
       "    <tr>\n",
       "      <th>AgeVax</th>\n",
       "      <td>1.806568e-29</td>\n",
       "      <td>8.402528e-22</td>\n",
       "      <td>0.5</td>\n",
       "      <td>7.782143e-22</td>\n",
       "      <td>7.346498e-22</td>\n",
       "    </tr>\n",
       "    <tr>\n",
       "      <th>MovementVax</th>\n",
       "      <td>2.711897e-02</td>\n",
       "      <td>4.707463e-01</td>\n",
       "      <td>1.0</td>\n",
       "      <td>5.000000e-01</td>\n",
       "      <td>5.265964e-01</td>\n",
       "    </tr>\n",
       "    <tr>\n",
       "      <th>SpreadingVax</th>\n",
       "      <td>2.265869e-02</td>\n",
       "      <td>4.442953e-01</td>\n",
       "      <td>1.0</td>\n",
       "      <td>4.734036e-01</td>\n",
       "      <td>5.000000e-01</td>\n",
       "    </tr>\n",
       "  </tbody>\n",
       "</table>\n",
       "</div>"
      ],
      "text/plain": [
       "                     NoVax   StandardVax  AgeVax   MovementVax  SpreadingVax\n",
       "NoVax         5.000000e-01  9.671282e-01     1.0  9.728810e-01  9.773413e-01\n",
       "StandardVax   3.287175e-02  5.000000e-01     1.0  5.292537e-01  5.557047e-01\n",
       "AgeVax        1.806568e-29  8.402528e-22     0.5  7.782143e-22  7.346498e-22\n",
       "MovementVax   2.711897e-02  4.707463e-01     1.0  5.000000e-01  5.265964e-01\n",
       "SpreadingVax  2.265869e-02  4.442953e-01     1.0  4.734036e-01  5.000000e-01"
      ]
     },
     "execution_count": 209,
     "metadata": {},
     "output_type": "execute_result"
    }
   ],
   "source": [
    "icu1, icu2, icu3, icu4, icu5 = getCSV(\"ICU\")\n",
    "arr1, arr2, arr3, arr4, arr5 = getNumpyArray(icu1), getNumpyArray(icu2), getNumpyArray(icu3), getNumpyArray(icu4), getNumpyArray(icu5)\n",
    "\n",
    "\n",
    "# clean the data by removing all nan values\n",
    "nan_array = np.isnan(arr5) # filter out the nan values for arr5\n",
    "not_nan_array = ~ nan_array\n",
    "arr5 = arr5[not_nan_array]\n",
    "# get the numpy array of pvalues\n",
    "npversionICU = np.array(significanceTable([arr1, arr2, arr3, arr4, arr5])) # get pvalues\n",
    "ICUsig = pd.DataFrame(npversionICU, columns=labels, index=labels) # get the dataframe for pvalues\n",
    "ICUsig # display the pvalues"
   ]
  },
  {
   "cell_type": "code",
   "execution_count": 210,
   "id": "492157a4",
   "metadata": {},
   "outputs": [
    {
     "name": "stdout",
     "output_type": "stream",
     "text": [
      "\\begin{tabular}{lrrrrr}\n",
      "\\toprule\n",
      "{} &         NoVax &   StandardVax &  AgeVax &   MovementVax &  SpreadingVax \\\\\n",
      "\\midrule\n",
      "NoVax        &  5.000000e-01 &  9.671282e-01 &     1.0 &  9.728810e-01 &  9.773413e-01 \\\\\n",
      "StandardVax  &  3.287175e-02 &  5.000000e-01 &     1.0 &  5.292537e-01 &  5.557047e-01 \\\\\n",
      "AgeVax       &  1.806568e-29 &  8.402528e-22 &     0.5 &  7.782143e-22 &  7.346498e-22 \\\\\n",
      "MovementVax  &  2.711897e-02 &  4.707463e-01 &     1.0 &  5.000000e-01 &  5.265964e-01 \\\\\n",
      "SpreadingVax &  2.265869e-02 &  4.442953e-01 &     1.0 &  4.734036e-01 &  5.000000e-01 \\\\\n",
      "\\bottomrule\n",
      "\\end{tabular}\n",
      "\n"
     ]
    }
   ],
   "source": [
    "print(ICUsig.to_latex(index=True)) # get the latex code for the table"
   ]
  }
 ],
 "metadata": {
  "kernelspec": {
   "display_name": "Python 3 (ipykernel)",
   "language": "python",
   "name": "python3"
  },
  "language_info": {
   "codemirror_mode": {
    "name": "ipython",
    "version": 3
   },
   "file_extension": ".py",
   "mimetype": "text/x-python",
   "name": "python",
   "nbconvert_exporter": "python",
   "pygments_lexer": "ipython3",
   "version": "3.8.10"
  }
 },
 "nbformat": 4,
 "nbformat_minor": 5
}
